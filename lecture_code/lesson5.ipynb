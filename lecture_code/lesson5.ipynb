{
    "nbformat": 4,
    "nbformat_minor": 0,
    "metadata": {
      "colab": {
        "provenance": []
      },
      "kernelspec": {
        "name": "python3",
        "display_name": "Python 3"
      },
      "language_info": {
        "name": "python"
      }
    },
    "cells": [
      {
        "cell_type": "code",
        "execution_count": null,
        "metadata": {
          "id": "JisS7AYKX1wg"
        },
        "outputs": [],
        "source": [
          "a = (1,2,3,4,56,6,5)"
        ]
      },
      {
        "cell_type": "code",
        "source": [
          "x = 0\n",
          "for i in a:\n",
          "  x += 1\n",
          "  print(f\"{x}\")\n",
          "  if i == 5:\n",
          "    print(\"Знайшов\")\n",
          "    break"
        ],
        "metadata": {
          "colab": {
            "base_uri": "https://localhost:8080/"
          },
          "id": "UwFmbskw_VkJ",
          "outputId": "bbc55aa3-fa00-4d0e-b74d-06afa75f0be2"
        },
        "execution_count": null,
        "outputs": [
          {
            "output_type": "stream",
            "name": "stdout",
            "text": [
              "1\n",
              "2\n",
              "3\n",
              "4\n",
              "5\n",
              "6\n",
              "7\n",
              "Знайшов\n"
            ]
          }
        ]
      },
      {
        "cell_type": "code",
        "source": [
          "set_example = {1,1,1,2,3,4,5}"
        ],
        "metadata": {
          "id": "Il7e3RIR_a9u"
        },
        "execution_count": null,
        "outputs": []
      },
      {
        "cell_type": "code",
        "source": [
          "4 in set_example"
        ],
        "metadata": {
          "colab": {
            "base_uri": "https://localhost:8080/"
          },
          "id": "IlbkdxQgBYMO",
          "outputId": "7f5e78aa-31aa-44ed-8106-54029d82af6f"
        },
        "execution_count": null,
        "outputs": [
          {
            "output_type": "execute_result",
            "data": {
              "text/plain": [
                "True"
              ]
            },
            "metadata": {},
            "execution_count": 17
          }
        ]
      },
      {
        "cell_type": "code",
        "source": [
          "a = {\n",
          "    'key': 'value',\n",
          "    1: 44,\n",
          "    1: 42,\n",
          "}"
        ],
        "metadata": {
          "id": "Fb_88CkdBY4y"
        },
        "execution_count": null,
        "outputs": []
      },
      {
        "cell_type": "code",
        "source": [
          "a_d = dict(name=44, value=55)"
        ],
        "metadata": {
          "id": "KghnkC1YCGWX"
        },
        "execution_count": null,
        "outputs": []
      },
      {
        "cell_type": "code",
        "source": [
          "a_d"
        ],
        "metadata": {
          "colab": {
            "base_uri": "https://localhost:8080/"
          },
          "id": "W706dUODCGyS",
          "outputId": "2d177ca3-a9c6-406b-dc1b-de96a3f69bba"
        },
        "execution_count": null,
        "outputs": [
          {
            "output_type": "execute_result",
            "data": {
              "text/plain": [
                "{'name': 44, 'value': 55}"
              ]
            },
            "metadata": {},
            "execution_count": 25
          }
        ]
      },
      {
        "cell_type": "code",
        "source": [
          "l = [\n",
          "    (0.2, 0.4),\n",
          "    (0.4, 0.6),\n",
          "]"
        ],
        "metadata": {
          "id": "ffZCFcFwCvqg"
        },
        "execution_count": null,
        "outputs": []
      },
      {
        "cell_type": "code",
        "source": [
          "def func_example():\n",
          "  return (0, 4, 5)"
        ],
        "metadata": {
          "id": "dfH7j2xoDMha"
        },
        "execution_count": null,
        "outputs": []
      },
      {
        "cell_type": "code",
        "source": [],
        "metadata": {
          "id": "zI_9jOiwDXCB"
        },
        "execution_count": null,
        "outputs": []
      },
      {
        "cell_type": "code",
        "source": [
          "a = [1,2,3,4,5,6,7]\n",
          "\n",
          "print(a)\n",
          "\n",
          "a.append(8)\n",
          "\n",
          "print(a)"
        ],
        "metadata": {
          "colab": {
            "base_uri": "https://localhost:8080/"
          },
          "id": "XTAYNfuqGiTK",
          "outputId": "aaf63158-40ed-442b-831d-1e0b2c2e0e64"
        },
        "execution_count": null,
        "outputs": [
          {
            "output_type": "stream",
            "name": "stdout",
            "text": [
              "[1, 2, 3, 4, 5, 6, 7]\n",
              "[1, 2, 3, 4, 5, 6, 7, 8]\n"
            ]
          }
        ]
      },
      {
        "cell_type": "code",
        "source": [
          "a.remove(6)"
        ],
        "metadata": {
          "id": "aJn39FjOGp5H"
        },
        "execution_count": null,
        "outputs": []
      },
      {
        "cell_type": "code",
        "source": [
          "a"
        ],
        "metadata": {
          "colab": {
            "base_uri": "https://localhost:8080/"
          },
          "id": "RFNw0mdyG1-O",
          "outputId": "be56ff02-a8bf-41b3-be06-fe934bca7f7c"
        },
        "execution_count": null,
        "outputs": [
          {
            "output_type": "execute_result",
            "data": {
              "text/plain": [
                "[1, 2, 3, 4, 5, 7, 8]"
              ]
            },
            "metadata": {},
            "execution_count": 33
          }
        ]
      },
      {
        "cell_type": "code",
        "source": [
          "a.remove(7)"
        ],
        "metadata": {
          "id": "v8gyNr0SG2e8"
        },
        "execution_count": null,
        "outputs": []
      },
      {
        "cell_type": "code",
        "source": [
          "a"
        ],
        "metadata": {
          "colab": {
            "base_uri": "https://localhost:8080/"
          },
          "id": "LseSbOFmG67q",
          "outputId": "912b1658-a584-4e90-cb11-e74ee3589d8c"
        },
        "execution_count": null,
        "outputs": [
          {
            "output_type": "execute_result",
            "data": {
              "text/plain": [
                "[1, 2, 3, 4, 5, 8]"
              ]
            },
            "metadata": {},
            "execution_count": 36
          }
        ]
      },
      {
        "cell_type": "code",
        "source": [
          "a.insert(1, 42)"
        ],
        "metadata": {
          "id": "4eQ4-Ma5HEvS"
        },
        "execution_count": null,
        "outputs": []
      },
      {
        "cell_type": "code",
        "source": [
          "a"
        ],
        "metadata": {
          "colab": {
            "base_uri": "https://localhost:8080/"
          },
          "id": "oLJ1rdtrHM9S",
          "outputId": "381e03a3-c444-4450-af12-0d9a858d1c3a"
        },
        "execution_count": null,
        "outputs": [
          {
            "output_type": "execute_result",
            "data": {
              "text/plain": [
                "[1, 42, 2, 3, 4, 5, 8]"
              ]
            },
            "metadata": {},
            "execution_count": 38
          }
        ]
      },
      {
        "cell_type": "code",
        "source": [
          "a.insert(6, 23)"
        ],
        "metadata": {
          "id": "56KapUuMHNcM"
        },
        "execution_count": null,
        "outputs": []
      },
      {
        "cell_type": "code",
        "source": [
          "a"
        ],
        "metadata": {
          "colab": {
            "base_uri": "https://localhost:8080/"
          },
          "id": "ssN2_hpuHRJz",
          "outputId": "917cb404-0819-4136-c21e-0ac8358f0efb"
        },
        "execution_count": null,
        "outputs": [
          {
            "output_type": "execute_result",
            "data": {
              "text/plain": [
                "[1, 31, 33, 33, 42, 2, 23, 3, 4, 5, 8]"
              ]
            },
            "metadata": {},
            "execution_count": 45
          }
        ]
      },
      {
        "cell_type": "code",
        "source": [
          "a.sort(reverse=True)"
        ],
        "metadata": {
          "id": "bVN3vr2GHWeE"
        },
        "execution_count": null,
        "outputs": []
      },
      {
        "cell_type": "code",
        "source": [
          "t = (1,2,3,3,3,3,34,5,65)"
        ],
        "metadata": {
          "id": "NgfGdq1dHvZY"
        },
        "execution_count": null,
        "outputs": []
      },
      {
        "cell_type": "code",
        "source": [
          "t.index(65)"
        ],
        "metadata": {
          "colab": {
            "base_uri": "https://localhost:8080/"
          },
          "id": "WPf9XOzcIeMt",
          "outputId": "aab250a6-7fad-46e1-83c8-6d941ec1c2cf"
        },
        "execution_count": null,
        "outputs": [
          {
            "output_type": "execute_result",
            "data": {
              "text/plain": [
                "8"
              ]
            },
            "metadata": {},
            "execution_count": 67
          }
        ]
      },
      {
        "cell_type": "code",
        "source": [
          "(1,2,3,4) + (5,6,7,8)"
        ],
        "metadata": {
          "colab": {
            "base_uri": "https://localhost:8080/"
          },
          "id": "fUTTVWAjHyb-",
          "outputId": "33ac8dcc-2969-4ba7-beb0-47ffa0bda3b4"
        },
        "execution_count": null,
        "outputs": [
          {
            "output_type": "execute_result",
            "data": {
              "text/plain": [
                "(1, 2, 3, 4, 5, 6, 7, 8)"
              ]
            },
            "metadata": {},
            "execution_count": 65
          }
        ]
      },
      {
        "cell_type": "code",
        "source": [
          "a = {1,2,3,4,5,6,7}"
        ],
        "metadata": {
          "id": "hd2zDM7aH8Cs"
        },
        "execution_count": null,
        "outputs": []
      },
      {
        "cell_type": "code",
        "source": [
          "a.add(42)"
        ],
        "metadata": {
          "id": "IOB4Yc4pH-9l"
        },
        "execution_count": null,
        "outputs": []
      },
      {
        "cell_type": "code",
        "source": [
          "a"
        ],
        "metadata": {
          "colab": {
            "base_uri": "https://localhost:8080/"
          },
          "id": "tMmRncUcICL1",
          "outputId": "8ead8713-b1b8-46c6-f494-af4f9ed18528"
        },
        "execution_count": null,
        "outputs": [
          {
            "output_type": "execute_result",
            "data": {
              "text/plain": [
                "{1, 2, 3, 4, 5, 6, 7, 42}"
              ]
            },
            "metadata": {},
            "execution_count": 61
          }
        ]
      },
      {
        "cell_type": "code",
        "source": [
          "a.remove(42)"
        ],
        "metadata": {
          "id": "J_scNCaTICqi"
        },
        "execution_count": null,
        "outputs": []
      },
      {
        "cell_type": "code",
        "source": [
          "a"
        ],
        "metadata": {
          "colab": {
            "base_uri": "https://localhost:8080/"
          },
          "id": "wV-YRX7CIuhY",
          "outputId": "28d37a45-2d15-4d7e-fbba-b64bc5b64700"
        },
        "execution_count": null,
        "outputs": [
          {
            "output_type": "execute_result",
            "data": {
              "text/plain": [
                "{1, 2, 3, 4, 5, 6, 7}"
              ]
            },
            "metadata": {},
            "execution_count": 69
          }
        ]
      },
      {
        "cell_type": "code",
        "source": [
          "b = {5,6,7,8,9}"
        ],
        "metadata": {
          "id": "N9TlPVmvIu9S"
        },
        "execution_count": null,
        "outputs": []
      },
      {
        "cell_type": "code",
        "source": [
          "a.union(b)"
        ],
        "metadata": {
          "colab": {
            "base_uri": "https://localhost:8080/"
          },
          "id": "VqSa55uLI0qt",
          "outputId": "c4a51eb2-be86-48f6-8076-f2198c5d9f13"
        },
        "execution_count": null,
        "outputs": [
          {
            "output_type": "execute_result",
            "data": {
              "text/plain": [
                "{1, 2, 3, 4, 5, 6, 7, 8, 9}"
              ]
            },
            "metadata": {},
            "execution_count": 71
          }
        ]
      },
      {
        "cell_type": "code",
        "source": [
          "a.symmetric_difference(b)"
        ],
        "metadata": {
          "colab": {
            "base_uri": "https://localhost:8080/"
          },
          "id": "vkywkkMkI3T7",
          "outputId": "3b191e6c-b490-43ac-86bd-f0a9ebd6f81d"
        },
        "execution_count": null,
        "outputs": [
          {
            "output_type": "execute_result",
            "data": {
              "text/plain": [
                "{1, 2, 3, 4, 8, 9}"
              ]
            },
            "metadata": {},
            "execution_count": 72
          }
        ]
      },
      {
        "cell_type": "code",
        "source": [
          "a.intersection(b)"
        ],
        "metadata": {
          "colab": {
            "base_uri": "https://localhost:8080/"
          },
          "id": "GV1sTq5HJCnk",
          "outputId": "aebfa604-301f-4627-c56e-dda6c99f2b3a"
        },
        "execution_count": null,
        "outputs": [
          {
            "output_type": "execute_result",
            "data": {
              "text/plain": [
                "{5, 6, 7}"
              ]
            },
            "metadata": {},
            "execution_count": 73
          }
        ]
      },
      {
        "cell_type": "code",
        "source": [
          "a = {\"a\", \"b\", \"c\"}"
        ],
        "metadata": {
          "id": "9jwKcOfcJPGN"
        },
        "execution_count": null,
        "outputs": []
      },
      {
        "cell_type": "code",
        "source": [
          "c = {\"a\", \"b\", \"c\"}"
        ],
        "metadata": {
          "id": "jbwwajBRJXcx"
        },
        "execution_count": null,
        "outputs": []
      },
      {
        "cell_type": "code",
        "source": [
          "a.symmetric_difference(c)"
        ],
        "metadata": {
          "colab": {
            "base_uri": "https://localhost:8080/"
          },
          "id": "E7WjDadMJaCa",
          "outputId": "8473838e-2483-4939-c474-6f1321dfd14b"
        },
        "execution_count": null,
        "outputs": [
          {
            "output_type": "execute_result",
            "data": {
              "text/plain": [
                "set()"
              ]
            },
            "metadata": {},
            "execution_count": 80
          }
        ]
      },
      {
        "cell_type": "code",
        "source": [],
        "metadata": {
          "id": "nznpJgh7JbNN"
        },
        "execution_count": null,
        "outputs": []
      },
      {
        "cell_type": "code",
        "source": [],
        "metadata": {
          "id": "R9-XB9RKJtVI"
        },
        "execution_count": null,
        "outputs": []
      },
      {
        "cell_type": "code",
        "source": [
          "d = {'a': 1, 'b': 2, 'c': 4}"
        ],
        "metadata": {
          "id": "M66RvbPRJtJK"
        },
        "execution_count": null,
        "outputs": []
      },
      {
        "cell_type": "code",
        "source": [
          "d"
        ],
        "metadata": {
          "colab": {
            "base_uri": "https://localhost:8080/"
          },
          "id": "kJDb73FYJx7y",
          "outputId": "c6afc2e5-f226-4c65-fadd-d9a6b939ce48"
        },
        "execution_count": null,
        "outputs": [
          {
            "output_type": "execute_result",
            "data": {
              "text/plain": [
                "{'a': 1, 'b': 2, 'c': 4}"
              ]
            },
            "metadata": {},
            "execution_count": 82
          }
        ]
      },
      {
        "cell_type": "code",
        "source": [
          "d.get('a', None)"
        ],
        "metadata": {
          "colab": {
            "base_uri": "https://localhost:8080/"
          },
          "id": "Qoo7Tch9Jzgq",
          "outputId": "5fe66ae0-1315-4b83-b362-bd5fb68319dc"
        },
        "execution_count": null,
        "outputs": [
          {
            "output_type": "execute_result",
            "data": {
              "text/plain": [
                "1"
              ]
            },
            "metadata": {},
            "execution_count": 92
          }
        ]
      },
      {
        "cell_type": "code",
        "source": [
          "del d['a']"
        ],
        "metadata": {
          "id": "7aO0ecAgJ9ph"
        },
        "execution_count": null,
        "outputs": []
      },
      {
        "cell_type": "code",
        "source": [
          "d.get('a', 'None')"
        ],
        "metadata": {
          "colab": {
            "base_uri": "https://localhost:8080/",
            "height": 36
          },
          "id": "uL4ihB5IKC88",
          "outputId": "c3760ad8-e564-491e-a8b1-81c5af4c25e1"
        },
        "execution_count": null,
        "outputs": [
          {
            "output_type": "execute_result",
            "data": {
              "text/plain": [
                "'None'"
              ],
              "application/vnd.google.colaboratory.intrinsic+json": {
                "type": "string"
              }
            },
            "metadata": {},
            "execution_count": 95
          }
        ]
      },
      {
        "cell_type": "code",
        "source": [
          "a = [1,2,3,4,5]"
        ],
        "metadata": {
          "id": "HuWASVVGKMin"
        },
        "execution_count": null,
        "outputs": []
      },
      {
        "cell_type": "code",
        "source": [
          "for key in d:\n",
          "  print(f\"key: {key}; value={d[key]}\")"
        ],
        "metadata": {
          "colab": {
            "base_uri": "https://localhost:8080/"
          },
          "id": "ly95Wj_jKS3M",
          "outputId": "123b089b-1cfb-4cec-fdec-4e7c0ae33428"
        },
        "execution_count": null,
        "outputs": [
          {
            "output_type": "stream",
            "name": "stdout",
            "text": [
              "key: b; value=2\n",
              "key: c; value=4\n"
            ]
          }
        ]
      },
      {
        "cell_type": "code",
        "source": [
          "for key in d.keys():\n",
          "  print(f\"key: {key}; value={d[key]}\")"
        ],
        "metadata": {
          "colab": {
            "base_uri": "https://localhost:8080/"
          },
          "id": "XzT4ftMXKU7X",
          "outputId": "3ae83f24-aa64-4987-8eaf-e5b85494704f"
        },
        "execution_count": null,
        "outputs": [
          {
            "output_type": "stream",
            "name": "stdout",
            "text": [
              "key: b; value=2\n",
              "key: c; value=4\n"
            ]
          }
        ]
      },
      {
        "cell_type": "code",
        "source": [
          "for value in d.values():\n",
          "  print(f\"value: {value}\")"
        ],
        "metadata": {
          "colab": {
            "base_uri": "https://localhost:8080/"
          },
          "id": "dO3clyWrKll_",
          "outputId": "14a6ced2-21b0-4e22-e8b7-ac96d73fbd51"
        },
        "execution_count": null,
        "outputs": [
          {
            "output_type": "stream",
            "name": "stdout",
            "text": [
              "value: 2\n",
              "value: 4\n"
            ]
          }
        ]
      },
      {
        "cell_type": "code",
        "source": [
          "for key, value in d.items():\n",
          "  print(f\"key: {key}; value: {value}\")"
        ],
        "metadata": {
          "colab": {
            "base_uri": "https://localhost:8080/"
          },
          "id": "il4M0taXKtIt",
          "outputId": "4318634b-3ff9-4f37-b06b-bafb03ca9ab1"
        },
        "execution_count": null,
        "outputs": [
          {
            "output_type": "stream",
            "name": "stdout",
            "text": [
              "key: b; value: 2\n",
              "key: c; value: 4\n"
            ]
          }
        ]
      },
      {
        "cell_type": "markdown",
        "source": [
          "#Відфільтруйте унікальні не-спам email-адреси зі списку email-ів."
        ],
        "metadata": {
          "id": "-nInq23tqgj3"
        }
      },
      {
        "cell_type": "code",
        "source": [
          "emails = [\"friend@example.com\", \"spam@example.com\", \"friend@example.com\"]\n",
          "spam_list = {\"spam@example.com\"}"
        ],
        "metadata": {
          "id": "jJvyS7mWLJVM"
        },
        "execution_count": null,
        "outputs": []
      },
      {
        "cell_type": "code",
        "source": [
          "emails = set(emails)"
        ],
        "metadata": {
          "id": "ZzrTC-g1LUb2"
        },
        "execution_count": null,
        "outputs": []
      },
      {
        "cell_type": "code",
        "source": [
          "emails.symmetric_difference(spam_list)"
        ],
        "metadata": {
          "colab": {
            "base_uri": "https://localhost:8080/"
          },
          "id": "VBK650qjLrqe",
          "outputId": "e77e7c28-900f-4309-ce56-6e53bdc31c81"
        },
        "execution_count": null,
        "outputs": [
          {
            "output_type": "execute_result",
            "data": {
              "text/plain": [
                "{'friend@example.com'}"
              ]
            },
            "metadata": {},
            "execution_count": 110
          }
        ]
      },
      {
        "cell_type": "markdown",
        "source": [
          "# Створіть список покупок, де кожна покупка представлена словником, що містить назву товару, кількість та ціну за одиницю. Розрахуйте загальну вартість покупок."
        ],
        "metadata": {
          "id": "6MTRc69mq0BM"
        }
      },
      {
        "cell_type": "code",
        "source": [
          "shopping_list = [\n",
          "    {\"name\": \"milk\", \"quantity\": 2, \"price\": 30},\n",
          "    {\"name\": \"bread\", \"quantity\": 1, \"price\": 20},\n",
          "    {\"name\": \"eggs\", \"quantity\": 12, \"price\": 50}\n",
          "]"
        ],
        "metadata": {
          "id": "YgzMZBo3Lw97"
        },
        "execution_count": null,
        "outputs": []
      },
      {
        "cell_type": "code",
        "source": [
          "shopping_sum = 0\n",
          "\n",
          "for element in shopping_list:\n",
          "  value = element['price'] * element['quantity']\n",
          "  shopping_sum += value"
        ],
        "metadata": {
          "colab": {
            "base_uri": "https://localhost:8080/"
          },
          "id": "6qf6S6lML5AJ",
          "outputId": "0c597e4d-7a39-400e-b124-a441532c02b8"
        },
        "execution_count": null,
        "outputs": [
          {
            "output_type": "stream",
            "name": "stdout",
            "text": [
              "milk\n",
              "bread\n",
              "eggs\n"
            ]
          }
        ]
      },
      {
        "cell_type": "code",
        "source": [
          "sum([element['price'] * element['quantity'] for element in shopping_list])"
        ],
        "metadata": {
          "colab": {
            "base_uri": "https://localhost:8080/"
          },
          "id": "q2WJau_tMkpG",
          "outputId": "44417a4c-bed1-45b3-e9cb-66c0e1a2de8f"
        },
        "execution_count": null,
        "outputs": [
          {
            "output_type": "execute_result",
            "data": {
              "text/plain": [
                "680"
              ]
            },
            "metadata": {},
            "execution_count": 120
          }
        ]
      },
      {
        "cell_type": "markdown",
        "source": [
          "#Підрахуйте відповіді за категоріями від учасників опитування."
        ],
        "metadata": {
          "id": "De4SKnNUq51p"
        }
      },
      {
        "cell_type": "code",
        "source": [
          "survey_responses = [\n",
          "    {\"name\": \"Alice\", \"response\": \"Yes\"},\n",
          "    {\"name\": \"Bob\", \"response\": \"No\"},\n",
          "    {\"name\": \"Charlie\", \"response\": \"Yes\"},\n",
          "    {\"name\": \"Valeria\", \"response\": \"No\"},\n",
          "    {\"name\": \"Dima\", \"response\": \"No\"},\n",
          "    {\"name\": \"Smit\", \"response\": \"No\"},\n",
          "]"
        ],
        "metadata": {
          "id": "YImPz5X8NHxa"
        },
        "execution_count": null,
        "outputs": []
      },
      {
        "cell_type": "code",
        "source": [
          "yes_count = 0\n",
          "no_count = 0\n",
          "for element in survey_responses:\n",
          "  if element['response'] == 'Yes':\n",
          "    yes_count += 1\n",
          "  if element['response'] == 'No':\n",
          "    no_count += 1\n",
          "  else:\n",
          "    continue"
        ],
        "metadata": {
          "id": "q8HjoI9VNuki"
        },
        "execution_count": null,
        "outputs": []
      },
      {
        "cell_type": "code",
        "source": [
          "print(yes_count)\n",
          "print(no_count)"
        ],
        "metadata": {
          "colab": {
            "base_uri": "https://localhost:8080/"
          },
          "id": "PdXshcRmOwxu",
          "outputId": "2d0ddb52-3924-406e-c8e3-79b44eb86d04"
        },
        "execution_count": null,
        "outputs": [
          {
            "output_type": "stream",
            "name": "stdout",
            "text": [
              "2\n",
              "4\n"
            ]
          }
        ]
      },
      {
        "cell_type": "code",
        "source": [
          "yes_count = 0\n",
          "no_count = 0\n",
          "for element in {1,2,3,4,5}:\n",
          "  no_count += 1\n"
        ],
        "metadata": {
          "id": "_1ZN5dohOy0Y"
        },
        "execution_count": null,
        "outputs": []
      },
      {
        "cell_type": "markdown",
        "source": [
          "#Визначення переможця змагань"
        ],
        "metadata": {
          "id": "VpBW0Us9rOR-"
        }
      },
      {
        "cell_type": "code",
        "source": [
          "results = [\n",
          "    (\"Alice\", \"B\", 9),\n",
          "    (\"Bob\", \"C\", 12),\n",
          "    (\"Charlie\", \"D\", 11),\n",
          "    (\"Dima\", \"B\", 1),\n",
          "]"
        ],
        "metadata": {
          "id": "QAxp3HYGQW1z"
        },
        "execution_count": null,
        "outputs": []
      },
      {
        "cell_type": "code",
        "source": [
          "winner_name = ''\n",
          "max_result = 0\n",
          "\n",
          "for name, surname, score in results:\n",
          "  print(f\"{name} {surname} {score}\")\n",
          "  if score > max_result:\n",
          "    max_result = score\n",
          "    winner_name = name + \" \" + surname"
        ],
        "metadata": {
          "colab": {
            "base_uri": "https://localhost:8080/"
          },
          "id": "3CWbuxWoQYaW",
          "outputId": "94927eb3-49b4-422c-b488-eb6699acc23e"
        },
        "execution_count": null,
        "outputs": [
          {
            "output_type": "stream",
            "name": "stdout",
            "text": [
              "Alice B 9\n",
              "Bob B 12\n",
              "Charlie B 11\n",
              "Dima B 1\n"
            ]
          }
        ]
      },
      {
        "cell_type": "code",
        "source": [
          "print(winner_name)"
        ],
        "metadata": {
          "colab": {
            "base_uri": "https://localhost:8080/"
          },
          "id": "WKogQm0lQ7vF",
          "outputId": "2ef6fb7c-9d16-4080-9548-6f60fad0a166"
        },
        "execution_count": null,
        "outputs": [
          {
            "output_type": "stream",
            "name": "stdout",
            "text": [
              "Bob B\n"
            ]
          }
        ]
      },
      {
        "cell_type": "markdown",
        "source": [
          "#Розрахунок середнього балу студентів"
        ],
        "metadata": {
          "id": "4fJE7yyRrQLD"
        }
      },
      {
        "cell_type": "code",
        "source": [
          "students_grades = {\n",
          "    \"Alice\": [4, 5, 3, 4, 7, 89],\n",
          "    \"Bob\": [5, 5, 4, 5, 33],\n",
          "    \"Charlie\": [3, 4, 2, 3]\n",
          "}"
        ],
        "metadata": {
          "id": "urIYJjGjTjKB"
        },
        "execution_count": null,
        "outputs": []
      },
      {
        "cell_type": "code",
        "source": [
          "for student_name, student_grades in students_grades.items():\n",
          "  grade_avg = sum(student_grades) / len(student_grades)\n",
          "  print(f\"Student name: {student_name}; student grade: {grade_avg}\")"
        ],
        "metadata": {
          "colab": {
            "base_uri": "https://localhost:8080/"
          },
          "id": "WmrFM2KDUj2h",
          "outputId": "20dd7fbb-d3e2-48d5-d52c-1cb209dba675"
        },
        "execution_count": null,
        "outputs": [
          {
            "output_type": "stream",
            "name": "stdout",
            "text": [
              "Student name: Alice; student grade: 18.666666666666668\n",
              "Student name: Bob; student grade: 10.4\n",
              "Student name: Charlie; student grade: 3.0\n"
            ]
          }
        ]
      },
      {
        "cell_type": "code",
        "source": [
          "students_grades['Alice']"
        ],
        "metadata": {
          "colab": {
            "base_uri": "https://localhost:8080/"
          },
          "id": "fW3dGKksVOKM",
          "outputId": "92c1bc97-e3ce-44ae-ce1a-e7945d61e145"
        },
        "execution_count": null,
        "outputs": [
          {
            "output_type": "execute_result",
            "data": {
              "text/plain": [
                "[4, 5, 3, 4]"
              ]
            },
            "metadata": {},
            "execution_count": 152
          }
        ]
      },
      {
        "cell_type": "code",
        "source": [
          "for key, valua in students_grades.items():\n",
          "  print(key)\n",
          "  print(valua)"
        ],
        "metadata": {
          "colab": {
            "base_uri": "https://localhost:8080/"
          },
          "id": "QvdV6ubnVsDc",
          "outputId": "b8a6b3e9-ae53-4e42-e61c-64552e6227d2"
        },
        "execution_count": null,
        "outputs": [
          {
            "output_type": "stream",
            "name": "stdout",
            "text": [
              "Alice\n",
              "[4, 5, 3, 4, 7, 89]\n",
              "Bob\n",
              "[5, 5, 4, 5, 33]\n",
              "Charlie\n",
              "[3, 4, 2, 3]\n"
            ]
          }
        ]
      },
      {
        "cell_type": "code",
        "source": [],
        "metadata": {
          "id": "o-HbdEj2ZiZY"
        },
        "execution_count": null,
        "outputs": []
      }
    ]
  }